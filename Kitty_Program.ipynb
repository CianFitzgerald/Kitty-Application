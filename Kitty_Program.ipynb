{
 "cells": [
  {
   "cell_type": "markdown",
   "metadata": {},
   "source": [
    "# Assignment One - Kitty (Revised Solution)\n",
    "\n",
    "For this assignment I have decided to approach the problem by creating two classes, these being: member and event. The member class takes in each members name and initialises their balance and contribution at zero. And the event class keeps track of the event that occured, the transactions that took place, the total cost of the transactions, and the reconciliation for each member. "
   ]
  },
  {
   "cell_type": "code",
   "execution_count": null,
   "metadata": {},
   "outputs": [],
   "source": [
    "class members:\n",
    "    #stores each members name and initialises their balance and contribution to zero \n",
    "    def __init__(self,name):\n",
    "        self.name = name         \n",
    "        self.balance = 0        \n",
    "        self.contribution = 0    \n",
    "\n",
    "class event:\n",
    "    #constructor set up to take list of members that were involved in the kitty \n",
    "    def __init__(self,  members):\n",
    "        self.members = members\n",
    "\n",
    "    #each transaction is added and the amount paid is added to the members contribution balance\n",
    "    def add_transaction(self, description, amount, payee): \n",
    "        if payee in self.members:\n",
    "            payee.contribution += amount\n",
    "        \n",
    "        #the total kitty value is initialised at zero and each member contribution is summated to get the total\n",
    "        self.total = 0\n",
    "        for payee in self.members:\n",
    "            self.total += payee.contribution\n",
    "      \n",
    "        #error handling: ensures that no incorrect values are inputted\n",
    "        #notifies user when incorrect value used\n",
    "        if not (isinstance(amount, int) or isinstance(amount, float)) or amount<0:\n",
    "            print(\"this amount is not a suitable, please enter a positive numeric value\")\n",
    "            return\n",
    "\n",
    "        \n",
    "    #returns each users balance and what is due\n",
    "    def reconciliation(self): \n",
    "        #calculating cost per person and printing total and cost per person \n",
    "        cost_per_person = self.total/len(self.members)   \n",
    "        print(\"Total: €{0:.2f}, that is €{1:.2f} each\".format(self.total,cost_per_person))\n",
    "        print('\\n')\n",
    "        \n",
    "        #initialise debtors and creditors as empty lists \n",
    "        self.debtors = []      \n",
    "        self.creditors = []  \n",
    "    \n",
    "        #calculating each members balance, and adding them to debtors or creditors list\n",
    "        #printing relevant balance statements\n",
    "        for member in self.members:\n",
    "            member.balance = member.contribution - cost_per_person\n",
    "            if member.balance <0: \n",
    "                self.debtors.append(member)     \n",
    "            else: \n",
    "                self.creditors.append(member)         \n",
    "            print(\"{0:s} has balance: €{1:.2f}\".format(member.name,member.balance))\n",
    "        print('\\n')\n",
    "        \n",
    "        #calculating what the debtors owe the creditors and printing relevant statement\n",
    "        for debtor in self.debtors:  \n",
    "            for creditor in self.creditors:  \n",
    "                \n",
    "                #if the debtors balance is less than or equal to minus the creditors balance\n",
    "                #Then the payment due is equal to the creditors balance\n",
    "                #the creditors balance is added to the debtors balance and the creditors balance becomes zero\n",
    "                if debtor.balance <= -creditor.balance:\n",
    "                    payment = creditor.balance\n",
    "                    debtor.balance += creditor.balance\n",
    "                    creditor.balance = 0   \n",
    "                    \n",
    "                    \n",
    "                #otherwise if the debtors balance is greater than or equal to minus the creditors balance \n",
    "                #Then the payment due is equal to the debtors balance\n",
    "                #the debtors balance is added to the creditors balance and the debtors balance becomes zero\n",
    "                \n",
    "                else:\n",
    "                    payment = -debtor.balance\n",
    "                    creditor.balance += debtor.balance\n",
    "                    debtor.balance = 0   \n",
    "                    \n",
    "                if payment > 0:\n",
    "                    print(\"{0:s} pays {1:s}: €{2:.2f}\".format(debtor.name, creditor.name, payment))\n",
    "                    \n",
    "                    "
   ]
  },
  {
   "cell_type": "markdown",
   "metadata": {},
   "source": [
    "# sample 1\n"
   ]
  },
  {
   "cell_type": "code",
   "execution_count": null,
   "metadata": {},
   "outputs": [],
   "source": [
    "Annie = members(\"Annie\")\n",
    "Bill = members(\"Bill\")\n",
    "Sally = members(\"Sally\")"
   ]
  },
  {
   "cell_type": "code",
   "execution_count": null,
   "metadata": {},
   "outputs": [],
   "source": [
    "concert = event([Annie,Bill,Sally])"
   ]
  },
  {
   "cell_type": "code",
   "execution_count": null,
   "metadata": {
    "scrolled": true
   },
   "outputs": [],
   "source": [
    "concert.add_transaction(\"tickets\",180,Annie)\n",
    "concert.add_transaction(\"Dinner\",75,Sally)\n",
    "concert.add_transaction(\"Drinks\",19,Bill)\n",
    "concert.add_transaction(\"Taxi\",16,Bill)"
   ]
  },
  {
   "cell_type": "code",
   "execution_count": null,
   "metadata": {},
   "outputs": [],
   "source": [
    "concert.reconciliation()"
   ]
  },
  {
   "cell_type": "markdown",
   "metadata": {},
   "source": [
    "# Sample 2\n"
   ]
  },
  {
   "cell_type": "code",
   "execution_count": null,
   "metadata": {},
   "outputs": [],
   "source": [
    "Cathy = members(\"Cathy\")\n",
    "Robin = members(\"Robin\")\n",
    "Jen = members(\"Jen\")"
   ]
  },
  {
   "cell_type": "code",
   "execution_count": null,
   "metadata": {},
   "outputs": [],
   "source": [
    "cinema = event([Cathy,Robin,Jen])"
   ]
  },
  {
   "cell_type": "code",
   "execution_count": null,
   "metadata": {},
   "outputs": [],
   "source": [
    "cinema.add_transaction(\"tickets\",33,Cathy)\n",
    "cinema.add_transaction(\"Dinner\",60,Robin)\n",
    "cinema.add_transaction(\"drinks\",21,Jen)\n",
    "cinema.add_transaction(\"Taxi\",27,Jen)"
   ]
  },
  {
   "cell_type": "code",
   "execution_count": null,
   "metadata": {},
   "outputs": [],
   "source": [
    "cinema.reconciliation()"
   ]
  },
  {
   "cell_type": "markdown",
   "metadata": {},
   "source": [
    "# Sample 3 \n"
   ]
  },
  {
   "cell_type": "code",
   "execution_count": null,
   "metadata": {},
   "outputs": [],
   "source": [
    "Nora = members(\"Nora\")\n",
    "Eva = members(\"Eva\")\n",
    "Frankie = members(\"Frankie\")\n",
    "Harry = members(\"Harry\")"
   ]
  },
  {
   "cell_type": "code",
   "execution_count": null,
   "metadata": {},
   "outputs": [],
   "source": [
    "weekend_away = event([Nora,Eva,Frankie,Harry])"
   ]
  },
  {
   "cell_type": "code",
   "execution_count": null,
   "metadata": {},
   "outputs": [],
   "source": [
    "weekend_away.add_transaction(\"dinner\",110,Nora)\n",
    "weekend_away.add_transaction(\"lunch\",60,Eva)\n",
    "weekend_away.add_transaction(\"dinner\",125,Frankie)\n",
    "weekend_away.add_transaction(\"lunch\",70,Harry)"
   ]
  },
  {
   "cell_type": "code",
   "execution_count": null,
   "metadata": {},
   "outputs": [],
   "source": [
    "weekend_away.reconciliation()"
   ]
  }
 ],
 "metadata": {
  "kernelspec": {
   "display_name": "Python 3",
   "language": "python",
   "name": "python3"
  },
  "language_info": {
   "codemirror_mode": {
    "name": "ipython",
    "version": 3
   },
   "file_extension": ".py",
   "mimetype": "text/x-python",
   "name": "python",
   "nbconvert_exporter": "python",
   "pygments_lexer": "ipython3",
   "version": "3.8.3"
  }
 },
 "nbformat": 4,
 "nbformat_minor": 4
}
